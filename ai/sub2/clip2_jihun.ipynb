{
  "cells": [
    {
      "cell_type": "markdown",
      "metadata": {
        "id": "5gUMDNr-pCwD"
      },
      "source": [
        "# 과제 목표\n",
        "\n",
        "1. 대규모 데이터로 미리 학습된 CLIP 모델로 이미지 혹은 텍스트의 CLIP feature를 추출하는 방법을 학습\n",
        "2. CLIP 모델을 활용하여 추가 학습이 없는 제로샷 이미지 분류기 구현"
      ]
    },
    {
      "cell_type": "markdown",
      "metadata": {
        "id": "oDYVkQhVT5yH"
      },
      "source": [
        "# 환경 세팅"
      ]
    },
    {
      "cell_type": "markdown",
      "metadata": {
        "id": "phPa8_KN65kq"
      },
      "source": [
        "본 실습에서 사용할 라이브러리를 import 하겠습니다. Colab을 사용할 경우, 아래 명령어로 CLIP을 추가 설치해주세요."
      ]
    },
    {
      "cell_type": "code",
      "execution_count": 1,
      "metadata": {
        "colab": {
          "base_uri": "https://localhost:8080/"
        },
        "id": "JSfr39xZ65kq",
        "outputId": "e71d2835-a297-4a9d-fb85-febc7c4f6493"
      },
      "outputs": [
        {
          "output_type": "stream",
          "name": "stdout",
          "text": [
            "Collecting git+https://github.com/openai/CLIP.git\n",
            "  Cloning https://github.com/openai/CLIP.git to /tmp/pip-req-build-v2yu_gg5\n",
            "  Running command git clone --filter=blob:none --quiet https://github.com/openai/CLIP.git /tmp/pip-req-build-v2yu_gg5\n",
            "  Resolved https://github.com/openai/CLIP.git to commit dcba3cb2e2827b402d2701e7e1c7d9fed8a20ef1\n",
            "  Preparing metadata (setup.py) ... \u001b[?25l\u001b[?25hdone\n",
            "Collecting ftfy (from clip==1.0)\n",
            "  Downloading ftfy-6.2.3-py3-none-any.whl.metadata (7.8 kB)\n",
            "Requirement already satisfied: packaging in /usr/local/lib/python3.10/dist-packages (from clip==1.0) (24.1)\n",
            "Requirement already satisfied: regex in /usr/local/lib/python3.10/dist-packages (from clip==1.0) (2024.5.15)\n",
            "Requirement already satisfied: tqdm in /usr/local/lib/python3.10/dist-packages (from clip==1.0) (4.66.5)\n",
            "Requirement already satisfied: torch in /usr/local/lib/python3.10/dist-packages (from clip==1.0) (2.4.0+cu121)\n",
            "Requirement already satisfied: torchvision in /usr/local/lib/python3.10/dist-packages (from clip==1.0) (0.19.0+cu121)\n",
            "Requirement already satisfied: wcwidth<0.3.0,>=0.2.12 in /usr/local/lib/python3.10/dist-packages (from ftfy->clip==1.0) (0.2.13)\n",
            "Requirement already satisfied: filelock in /usr/local/lib/python3.10/dist-packages (from torch->clip==1.0) (3.15.4)\n",
            "Requirement already satisfied: typing-extensions>=4.8.0 in /usr/local/lib/python3.10/dist-packages (from torch->clip==1.0) (4.12.2)\n",
            "Requirement already satisfied: sympy in /usr/local/lib/python3.10/dist-packages (from torch->clip==1.0) (1.13.2)\n",
            "Requirement already satisfied: networkx in /usr/local/lib/python3.10/dist-packages (from torch->clip==1.0) (3.3)\n",
            "Requirement already satisfied: jinja2 in /usr/local/lib/python3.10/dist-packages (from torch->clip==1.0) (3.1.4)\n",
            "Requirement already satisfied: fsspec in /usr/local/lib/python3.10/dist-packages (from torch->clip==1.0) (2024.6.1)\n",
            "Requirement already satisfied: numpy in /usr/local/lib/python3.10/dist-packages (from torchvision->clip==1.0) (1.26.4)\n",
            "Requirement already satisfied: pillow!=8.3.*,>=5.3.0 in /usr/local/lib/python3.10/dist-packages (from torchvision->clip==1.0) (9.4.0)\n",
            "Requirement already satisfied: MarkupSafe>=2.0 in /usr/local/lib/python3.10/dist-packages (from jinja2->torch->clip==1.0) (2.1.5)\n",
            "Requirement already satisfied: mpmath<1.4,>=1.1.0 in /usr/local/lib/python3.10/dist-packages (from sympy->torch->clip==1.0) (1.3.0)\n",
            "Downloading ftfy-6.2.3-py3-none-any.whl (43 kB)\n",
            "\u001b[2K   \u001b[90m━━━━━━━━━━━━━━━━━━━━━━━━━━━━━━━━━━━━━━━━\u001b[0m \u001b[32m43.0/43.0 kB\u001b[0m \u001b[31m1.5 MB/s\u001b[0m eta \u001b[36m0:00:00\u001b[0m\n",
            "\u001b[?25hBuilding wheels for collected packages: clip\n",
            "  Building wheel for clip (setup.py) ... \u001b[?25l\u001b[?25hdone\n",
            "  Created wheel for clip: filename=clip-1.0-py3-none-any.whl size=1369490 sha256=21447eb8688d857c872e0786a2a047b6a6267b3e02ea39d528e06df7dd46a11e\n",
            "  Stored in directory: /tmp/pip-ephem-wheel-cache-xsq_6mqn/wheels/da/2b/4c/d6691fa9597aac8bb85d2ac13b112deb897d5b50f5ad9a37e4\n",
            "Successfully built clip\n",
            "Installing collected packages: ftfy, clip\n",
            "Successfully installed clip-1.0 ftfy-6.2.3\n"
          ]
        }
      ],
      "source": [
        "# Colab 사용 시\n",
        "!pip install git+https://github.com/openai/CLIP.git"
      ]
    },
    {
      "cell_type": "code",
      "execution_count": 2,
      "metadata": {
        "id": "yXPbd-Qbxe69"
      },
      "outputs": [],
      "source": [
        "import random\n",
        "import torch\n",
        "import torchvision\n",
        "import matplotlib.pyplot as plt\n",
        "import clip"
      ]
    },
    {
      "cell_type": "markdown",
      "metadata": {
        "id": "aRSdacW365kq"
      },
      "source": [
        "# CLIP으로 제로샷 이미지 분류기 만들기"
      ]
    },
    {
      "cell_type": "markdown",
      "metadata": {
        "id": "CfmV-7T_65kq"
      },
      "source": [
        "CLIP 활용의 실습으로, 기학습된 CLIP 모델로 이미지 분류기를 따로 학습하지 않고도 이미지 분류를 수행해보겠습니다."
      ]
    },
    {
      "cell_type": "markdown",
      "metadata": {
        "id": "J2mmpGpc65kr"
      },
      "source": [
        "본 실습에 사용할 설정값을 지정하겠습니다."
      ]
    },
    {
      "cell_type": "code",
      "execution_count": 3,
      "metadata": {
        "id": "NGTyN8mt65kr"
      },
      "outputs": [],
      "source": [
        "device = 'cuda' if torch.cuda.is_available() else 'cpu'\n",
        "cifar100_dataset_path = './datasets'"
      ]
    },
    {
      "cell_type": "markdown",
      "metadata": {
        "id": "Myq_NCjI65kr"
      },
      "source": [
        "본 실습에서는 huggingface에서 제공하는 CLIP 모델을 사용합니다. 사용 예시와 다양한 모델에 대한 docs는 아래 링크를 참조해주세요!\n",
        "\n",
        "https://huggingface.co/docs/transformers/model_doc/clip"
      ]
    },
    {
      "cell_type": "code",
      "execution_count": 4,
      "metadata": {
        "colab": {
          "base_uri": "https://localhost:8080/"
        },
        "id": "tp4VeGB665kr",
        "outputId": "750f94e7-8417-41ee-9c78-8906606644d7"
      },
      "outputs": [
        {
          "output_type": "stream",
          "name": "stderr",
          "text": [
            "100%|███████████████████████████████████████| 338M/338M [00:03<00:00, 96.1MiB/s]\n"
          ]
        }
      ],
      "source": [
        "# CLIP 모델 및 이미지 프로세서 불러오기\n",
        "model, preprocess = clip.load(\"ViT-B/32\", device=device)"
      ]
    },
    {
      "cell_type": "markdown",
      "metadata": {
        "id": "spO5gE1a65kr"
      },
      "source": [
        "데이터셋은 SUB PJT 1에서 사용한 CIFAR-10보다 더 클래스가 많은 CIFAR-100 데이터셋을 사용하겠습니다."
      ]
    },
    {
      "cell_type": "code",
      "execution_count": 6,
      "metadata": {
        "colab": {
          "base_uri": "https://localhost:8080/"
        },
        "id": "3fajL5GF65kr",
        "outputId": "a0d2c7ed-c45b-40ed-de1f-127c0e771322"
      },
      "outputs": [
        {
          "output_type": "stream",
          "name": "stdout",
          "text": [
            "Downloading https://www.cs.toronto.edu/~kriz/cifar-100-python.tar.gz to ./datasets/cifar-100-python.tar.gz\n"
          ]
        },
        {
          "output_type": "stream",
          "name": "stderr",
          "text": [
            "100%|██████████| 169001437/169001437 [00:05<00:00, 30766949.17it/s]\n"
          ]
        },
        {
          "output_type": "stream",
          "name": "stdout",
          "text": [
            "Extracting ./datasets/cifar-100-python.tar.gz to ./datasets\n"
          ]
        }
      ],
      "source": [
        "# Load dataset\n",
        "dataset = torchvision.datasets.CIFAR100(\n",
        "    cifar100_dataset_path, train=False, download=True,\n",
        ")"
      ]
    },
    {
      "cell_type": "markdown",
      "metadata": {
        "id": "3OVpG8jJ65kr"
      },
      "source": [
        "## 1. 라벨 텍스트 토큰화하기"
      ]
    },
    {
      "cell_type": "markdown",
      "metadata": {
        "id": "FQa1qiwtY2Rl"
      },
      "source": [
        "텍스트(라벨)의 CLIP feature를 얻기 위해선 텍스트를 토큰화해야 합니다. \"a photo of a {LABEL}\" 형식으로 CIFAR-100 데이터셋의 라벨 정보를 토큰화하여 리스트로 저장합니다."
      ]
    },
    {
      "cell_type": "code",
      "execution_count": 7,
      "metadata": {
        "colab": {
          "base_uri": "https://localhost:8080/"
        },
        "id": "FOBLXVWuMUi3",
        "outputId": "cfc15673-d5cb-411f-b210-0774fac3189a"
      },
      "outputs": [
        {
          "output_type": "stream",
          "name": "stdout",
          "text": [
            "Number of labels: 100\n",
            "Result of tokenization (for random 3 labels)\n",
            "tensor([49406,   320,  1125,   539,   320,   786, 49407,     0,     0,     0,\n",
            "            0,     0,     0,     0,     0,     0,     0,     0,     0,     0,\n",
            "            0,     0,     0,     0,     0,     0,     0,     0,     0,     0,\n",
            "            0,     0,     0,     0,     0,     0,     0,     0,     0,     0,\n",
            "            0,     0,     0,     0,     0,     0,     0,     0,     0,     0,\n",
            "            0,     0,     0,     0,     0,     0,     0,     0,     0,     0,\n",
            "            0,     0,     0,     0,     0,     0,     0,     0,     0,     0,\n",
            "            0,     0,     0,     0,     0,     0,     0], device='cuda:0',\n",
            "       dtype=torch.int32)\n",
            "tensor([49406,   320,  1125,   539,   320, 10945, 49407,     0,     0,     0,\n",
            "            0,     0,     0,     0,     0,     0,     0,     0,     0,     0,\n",
            "            0,     0,     0,     0,     0,     0,     0,     0,     0,     0,\n",
            "            0,     0,     0,     0,     0,     0,     0,     0,     0,     0,\n",
            "            0,     0,     0,     0,     0,     0,     0,     0,     0,     0,\n",
            "            0,     0,     0,     0,     0,     0,     0,     0,     0,     0,\n",
            "            0,     0,     0,     0,     0,     0,     0,     0,     0,     0,\n",
            "            0,     0,     0,     0,     0,     0,     0], device='cuda:0',\n",
            "       dtype=torch.int32)\n",
            "tensor([49406,   320,  1125,   539,   320,  8798, 49407,     0,     0,     0,\n",
            "            0,     0,     0,     0,     0,     0,     0,     0,     0,     0,\n",
            "            0,     0,     0,     0,     0,     0,     0,     0,     0,     0,\n",
            "            0,     0,     0,     0,     0,     0,     0,     0,     0,     0,\n",
            "            0,     0,     0,     0,     0,     0,     0,     0,     0,     0,\n",
            "            0,     0,     0,     0,     0,     0,     0,     0,     0,     0,\n",
            "            0,     0,     0,     0,     0,     0,     0,     0,     0,     0,\n",
            "            0,     0,     0,     0,     0,     0,     0], device='cuda:0',\n",
            "       dtype=torch.int32)\n"
          ]
        }
      ],
      "source": [
        "############################################################################\n",
        "# Req 2-1: 라벨 텍스트 토큰화하기                                              #\n",
        "############################################################################\n",
        "\n",
        "################################################################################\n",
        "# TODO: 데이터셋 내 라벨을 이용하여 이미지를 설명하는 텍스트를 만들고, 각 텍스트의        #\n",
        "# 토큰화를 진행함                                                                 #\n",
        "################################################################################\n",
        "# *****START OF YOUR CODE (DO NOT DELETE/MODIFY THIS LINE)*****\n",
        "# 1) 데이터셋 내 클래스(라벨)을 리스트화함\n",
        "# 2) 클래스(라벨)을 이용하여 \"a photo of a {LABEL}\" 형태의 텍스트를 tokenize함\n",
        "\n",
        "\n",
        "# 데이터셋 내 클래스(라벨)을 리스트화함\n",
        "labels = dataset.classes\n",
        "\n",
        "# 클래스(라벨)을 이용하여 \"a photo of a {LABEL}\" 형태의 텍스트를 tokenize함\n",
        "text_inputs = [clip.tokenize(f\"a photo of a {label}\") for label in labels]\n",
        "text_inputs = torch.cat(text_inputs).to(device)\n",
        "\n",
        "print(f\"Number of labels: {len(text_inputs)}\")\n",
        "print(\"Result of tokenization (for random 3 labels)\")\n",
        "random_text = random.sample(list(text_inputs), 3)\n",
        "for i in range(len(random_text)):\n",
        "    print(random_text[i])"
      ]
    },
    {
      "cell_type": "markdown",
      "metadata": {
        "id": "1iNGtXHD65ks"
      },
      "source": [
        "## 2. 이미지와 라벨 텍스트 간 CLIP feature 유사도 계산하기\n",
        "\n",
        "이미지 클래스(라벨)의 CLIP text feature와 분류 대상의 입력 이미지의 CLIP image features 간 top-K 유사도를 구하는 함수를 작성하겠습니다."
      ]
    },
    {
      "cell_type": "code",
      "execution_count": 8,
      "metadata": {
        "id": "_zfEbQHjPUSu"
      },
      "outputs": [],
      "source": [
        "############################################################################\n",
        "# Req 2-2: 이미지와 라벨 텍스트 간 유사도 계산하기                               #\n",
        "############################################################################\n",
        "\n",
        "def calc_similarities(image, text_inputs, topk):\n",
        "    \"\"\"Calulate cosine similarities between image features and text features.\n",
        "\n",
        "    Args:\n",
        "        image (torch.Tensor): Image to classify the label\n",
        "        text_inputs (torch.Tensor): Tokenized texts containing label information\n",
        "        topk (int): How many indices (classes) to extract as an answer\n",
        "    Returns:\n",
        "        top_sim_scores (torch.Tensor): Top-K similarity scores\n",
        "        top_indices (torch.Tensor): Top-K indices (order of nubmers matched with `top_sim_scores`)\n",
        "    \"\"\"\n",
        "    ################################################################################\n",
        "    # TODO: 이미지를 텐서화하고, 그리드를 이용하여 k 개의 이미지를 한 번에 나타냄            #\n",
        "    ################################################################################\n",
        "    # *****START OF YOUR CODE (DO NOT DELETE/MODIFY THIS LINE)*****\n",
        "    # 1) 이미지를 CLIP 전처리를 통하여 전처리함\n",
        "    image_preprocessed = preprocess(image).unsqueeze(0).to(device)\n",
        "\n",
        "    # 2) 라벨 정보를 담은 텍스트와 입력 이미지 각각의 CLIP feature를 구함\n",
        "    with torch.no_grad():\n",
        "        image_features = model.encode_image(image_preprocessed)\n",
        "        text_features = model.encode_text(text_inputs)\n",
        "\n",
        "    # 3) Image feature와 text feature의 코사인 유사도를 구함\n",
        "    image_features /= image_features.norm(dim=-1, keepdim=True)\n",
        "    text_features /= text_features.norm(dim=-1, keepdim=True)\n",
        "    similarities = (image_features @ text_features.T).squeeze(0)\n",
        "\n",
        "    # 4) 코사인 유사도에 softmax를 취하여 총합을 1로 만듦\n",
        "    softmax_similarities = torch.softmax(similarities, dim=-1)\n",
        "\n",
        "    # 5) Top-K 값과 이에 해당하는 인덱스를 추출함\n",
        "    top_sim_scores, top_indices = torch.topk(softmax_similarities, topk)\n",
        "\n",
        "    # *****END OF YOUR CODE (DO NOT DELETE/MODIFY THIS LINE)*****\n",
        "    ################################################################################\n",
        "    #                                 END OF YOUR CODE                             #\n",
        "    ################################################################################\n",
        "\n",
        "    return top_sim_scores, top_indices"
      ]
    },
    {
      "cell_type": "markdown",
      "metadata": {
        "id": "tcwr1-G4Zb_R"
      },
      "source": [
        "아래 코드로 `calc_similarities` 함수를 테스트할 수 있습니다.\n",
        "\n",
        "이미지 분류를 테스트할 대상 이미지를 무작위로 선택하고, 몇 개의 분류 예측을 뽑을 것인지 Top-K 숫자도 지정합니다. 이후 `calc_similarities` 함수를 이용하여 예측 결과를 확인합니다."
      ]
    },
    {
      "cell_type": "code",
      "execution_count": 9,
      "metadata": {
        "colab": {
          "base_uri": "https://localhost:8080/",
          "height": 453
        },
        "id": "kk6CSljZTdk-",
        "outputId": "01908b5c-5a4e-4a63-b3f9-66d55ae52423"
      },
      "outputs": [
        {
          "output_type": "stream",
          "name": "stdout",
          "text": [
            "Label (answer): palm_tree\n",
            "\n",
            "Top 10 Classification Results:\n",
            "palm_tree      : 1.09%\n",
            "pine_tree      : 1.06%\n",
            "willow_tree    : 1.05%\n",
            "oak_tree       : 1.04%\n",
            "maple_tree     : 1.04%\n",
            "house          : 1.03%\n",
            "lawn_mower     : 1.03%\n",
            "aquarium_fish  : 1.02%\n",
            "lamp           : 1.02%\n",
            "sweet_pepper   : 1.02%\n"
          ]
        },
        {
          "output_type": "display_data",
          "data": {
            "text/plain": [
              "<Figure size 200x200 with 1 Axes>"
            ],
            "image/png": "[encoded data removed]"
          },
          "metadata": {}
        }
      ],
      "source": [
        "# Select random image from dataset\n",
        "image_idx = random.randint(0, len(dataset))\n",
        "image, label_idx = dataset[image_idx]\n",
        "\n",
        "# Draw image\n",
        "plt.figure(figsize=(2, 2))\n",
        "plt.imshow(image)\n",
        "\n",
        "# Select K to show Top-K classification result\n",
        "K = 10\n",
        "\n",
        "# Calculate the similarites between image and labels\n",
        "# and classify the image with similarity scores\n",
        "sim_scores, indices = calc_similarities(image, text_inputs, K)\n",
        "\n",
        "print(f\"Label (answer): {dataset.classes[label_idx]}\\n\")\n",
        "print(f\"Top {K} Classification Results:\")\n",
        "for score, idx in zip(sim_scores, indices):\n",
        "    print(f\"{dataset.classes[idx]:15s}: {score.item()*100:.2f}%\")"
      ]
    }
  ],
  "metadata": {
    "accelerator": "GPU",
    "colab": {
      "gpuType": "T4",
      "provenance": []
    },
    "kernelspec": {
      "display_name": "Python 3",
      "name": "python3"
    },
    "language_info": {
      "codemirror_mode": {
        "name": "ipython",
        "version": 3
      },
      "file_extension": ".py",
      "mimetype": "text/x-python",
      "name": "python",
      "nbconvert_exporter": "python",
      "pygments_lexer": "ipython3",
      "version": "3.11.9"
    }
  },
  "nbformat": 4,
  "nbformat_minor": 0
}